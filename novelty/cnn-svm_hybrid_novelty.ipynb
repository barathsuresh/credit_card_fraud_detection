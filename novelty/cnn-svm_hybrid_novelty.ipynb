{
 "cells": [
  {
   "cell_type": "code",
   "execution_count": 1,
   "id": "281249ce",
   "metadata": {},
   "outputs": [],
   "source": [
    "import tensorflow as tf\n",
    "from tensorflow import keras\n",
    "import numpy as np\n",
    "import pandas as pd\n",
    "import seaborn as sns\n",
    "from sklearn.svm import SVC\n",
    "from sklearn.metrics import accuracy_score, classification_report, confusion_matrix, f1_score\n",
    "from keras.models import Sequential\n",
    "from keras.layers import Conv1D, MaxPooling1D, Flatten, Dense, Dropout, BatchNormalization\n",
    "from keras import layers\n",
    "import matplotlib.pyplot as plt\n",
    "from tabulate import tabulate\n",
    "from sklearn.model_selection import train_test_split\n",
    "from sklearn.preprocessing import StandardScaler"
   ]
  },
  {
   "cell_type": "code",
   "execution_count": 2,
   "id": "e8e292a8",
   "metadata": {},
   "outputs": [],
   "source": [
    "#IMPORTING THE DATASET\n",
    "\n",
    "data = pd.read_csv('creditcard.csv')"
   ]
  },
  {
   "cell_type": "code",
   "execution_count": 3,
   "id": "766f6e1f",
   "metadata": {},
   "outputs": [
    {
     "data": {
      "text/plain": [
       "<AxesSubplot:xlabel='Class', ylabel='count'>"
      ]
     },
     "execution_count": 3,
     "metadata": {},
     "output_type": "execute_result"
    },
    {
     "data": {
      "image/png": "[encoded data removed]",
      "text/plain": [
       "<Figure size 432x288 with 1 Axes>"
      ]
     },
     "metadata": {
      "needs_background": "light"
     },
     "output_type": "display_data"
    }
   ],
   "source": [
    "#SPLITTING THE DATASET\n",
    "\n",
    "X = data.iloc[:, :-1]\n",
    "y = data.iloc[:, -1]\n",
    "X_train, X_test, Y_train, Y_test = train_test_split(X, y, test_size=0.2, random_state=0)\n",
    "sns.countplot(x='Class',data=data)"
   ]
  },
  {
   "cell_type": "code",
   "execution_count": 4,
   "id": "24c440a9",
   "metadata": {},
   "outputs": [],
   "source": [
    "#FEATURE SCALLING\n",
    "\n",
    "X_train, X_test, Y_train, Y_test = train_test_split(X, y, test_size=0.2, random_state=0)\n",
    "scaler = StandardScaler()\n",
    "data['Amount'] = scaler.fit_transform(data['Amount'].values.reshape(-1, 1))\n",
    "data['Time'] = scaler.fit_transform(data['Time'].values.reshape(-1, 1))\n"
   ]
  },
  {
   "cell_type": "code",
   "execution_count": 5,
   "id": "bc75c0c3",
   "metadata": {},
   "outputs": [],
   "source": [
    "#RESHAPE DATA FOR CNN\n",
    "\n",
    "X_train_cnn = (X_train - X_train.mean()) / X_train.std()\n",
    "X_test_cnn = (X_test - X_train.mean()) / X_train.std()\n",
    "\n",
    "X_train_cnn = X_train_cnn.values.reshape(-1, 30, 1)\n",
    "X_test_cnn = X_test_cnn.values.reshape(-1, 30, 1)"
   ]
  },
  {
   "cell_type": "code",
   "execution_count": 6,
   "id": "66a6297c",
   "metadata": {},
   "outputs": [],
   "source": [
    "#MODEL WITH 20 LAYERS \n",
    "\n",
    "model_20 = keras.Sequential([\n",
    "    keras.layers.Conv1D(filters=32,kernel_size=2,activation=\"relu\",input_shape=(X_train_cnn.shape[1],1)),\n",
    "    keras.layers.BatchNormalization(),\n",
    "    keras.layers.Dropout(0.2),\n",
    "    \n",
    "    keras.layers.Conv1D(filters=64,kernel_size=2,activation=\"relu\"),\n",
    "    keras.layers.BatchNormalization(),\n",
    "    keras.layers.Dropout(0.5),\n",
    "\n",
    "    keras.layers.Conv1D(filters=64,kernel_size=2,activation=\"relu\"),\n",
    "    keras.layers.BatchNormalization(),\n",
    "    keras.layers.Dropout(0.5),\n",
    "\n",
    "    keras.layers.Conv1D(filters=64,kernel_size=2,activation=\"relu\"),\n",
    "    keras.layers.BatchNormalization(),\n",
    "    keras.layers.Dropout(0.25),\n",
    "    \n",
    "    keras.layers.Flatten(),\n",
    "    keras.layers.Dense(64,activation=\"relu\"),\n",
    "    keras.layers.Dropout(0.5), \n",
    "\n",
    "    keras.layers.Dense(100,activation=\"relu\"),\n",
    "    keras.layers.Dense(50,activation=\"relu\"),\n",
    "    keras.layers.Dense(25,activation=\"relu\"),\n",
    "    keras.layers.Dense(1,activation=\"sigmoid\"),\n",
    "])"
   ]
  },
  {
   "cell_type": "code",
   "execution_count": 7,
   "id": "e5864521",
   "metadata": {},
   "outputs": [
    {
     "name": "stdout",
     "output_type": "stream",
     "text": [
      "Epoch 1/100\n",
      "2849/2849 [==============================] - 47s 16ms/step - loss: 0.0102 - accuracy: 0.9978 - val_loss: 0.0047 - val_accuracy: 0.9995\n",
      "Epoch 2/100\n",
      "2849/2849 [==============================] - 46s 16ms/step - loss: 0.0057 - accuracy: 0.9988 - val_loss: 0.0036 - val_accuracy: 0.9994\n",
      "Epoch 3/100\n",
      "2849/2849 [==============================] - 47s 17ms/step - loss: 0.0050 - accuracy: 0.9992 - val_loss: 0.0030 - val_accuracy: 0.9995\n",
      "Epoch 4/100\n",
      "2849/2849 [==============================] - 46s 16ms/step - loss: 0.0046 - accuracy: 0.9992 - val_loss: 0.0028 - val_accuracy: 0.9994\n",
      "Epoch 5/100\n",
      "2849/2849 [==============================] - 48s 17ms/step - loss: 0.0049 - accuracy: 0.9992 - val_loss: 0.0042 - val_accuracy: 0.9993\n",
      "Epoch 6/100\n",
      "2849/2849 [==============================] - 44s 15ms/step - loss: 0.0048 - accuracy: 0.9993 - val_loss: 0.0030 - val_accuracy: 0.9995\n",
      "Epoch 7/100\n",
      "2849/2849 [==============================] - 44s 15ms/step - loss: 0.0040 - accuracy: 0.9993 - val_loss: 0.0030 - val_accuracy: 0.9993\n",
      "Epoch 8/100\n",
      "2849/2849 [==============================] - 45s 16ms/step - loss: 0.0041 - accuracy: 0.9993 - val_loss: 0.0041 - val_accuracy: 0.9994\n",
      "Epoch 9/100\n",
      "2849/2849 [==============================] - 43s 15ms/step - loss: 0.0040 - accuracy: 0.9992 - val_loss: 0.0030 - val_accuracy: 0.9994\n",
      "Epoch 10/100\n",
      "2849/2849 [==============================] - 44s 16ms/step - loss: 0.0040 - accuracy: 0.9992 - val_loss: 0.0032 - val_accuracy: 0.9989\n",
      "Epoch 11/100\n",
      "2849/2849 [==============================] - 49s 17ms/step - loss: 0.0037 - accuracy: 0.9993 - val_loss: 0.0033 - val_accuracy: 0.9992\n",
      "Epoch 12/100\n",
      "2849/2849 [==============================] - 43s 15ms/step - loss: 0.0045 - accuracy: 0.9992 - val_loss: 0.0036 - val_accuracy: 0.9994\n",
      "Epoch 13/100\n",
      "2849/2849 [==============================] - 47s 16ms/step - loss: 0.0042 - accuracy: 0.9993 - val_loss: 0.0033 - val_accuracy: 0.9994\n",
      "Epoch 14/100\n",
      "2849/2849 [==============================] - 44s 15ms/step - loss: 0.0036 - accuracy: 0.9993 - val_loss: 0.0033 - val_accuracy: 0.9994\n",
      "Epoch 15/100\n",
      "2849/2849 [==============================] - 44s 15ms/step - loss: 0.0037 - accuracy: 0.9993 - val_loss: 0.0028 - val_accuracy: 0.9995\n",
      "Epoch 16/100\n",
      "2849/2849 [==============================] - 52s 18ms/step - loss: 0.0037 - accuracy: 0.9993 - val_loss: 0.0028 - val_accuracy: 0.9994\n",
      "Epoch 17/100\n",
      "2849/2849 [==============================] - 61s 22ms/step - loss: 0.0039 - accuracy: 0.9993 - val_loss: 0.0035 - val_accuracy: 0.9993\n",
      "Epoch 18/100\n",
      "2849/2849 [==============================] - 65s 23ms/step - loss: 0.0034 - accuracy: 0.9993 - val_loss: 0.0036 - val_accuracy: 0.9993\n",
      "Epoch 19/100\n",
      "2849/2849 [==============================] - 78s 27ms/step - loss: 0.0033 - accuracy: 0.9993 - val_loss: 0.0030 - val_accuracy: 0.9994\n",
      "Epoch 20/100\n",
      "2849/2849 [==============================] - 55s 19ms/step - loss: 0.0033 - accuracy: 0.9993 - val_loss: 0.0035 - val_accuracy: 0.9994\n",
      "Epoch 21/100\n",
      "2849/2849 [==============================] - 47s 17ms/step - loss: 0.0039 - accuracy: 0.9993 - val_loss: 0.0037 - val_accuracy: 0.9994\n",
      "Epoch 22/100\n",
      "2849/2849 [==============================] - 44s 15ms/step - loss: 0.0034 - accuracy: 0.9993 - val_loss: 0.0030 - val_accuracy: 0.9995\n",
      "Epoch 23/100\n",
      "2849/2849 [==============================] - 46s 16ms/step - loss: 0.0035 - accuracy: 0.9993 - val_loss: 0.0046 - val_accuracy: 0.9990\n",
      "Epoch 24/100\n",
      "2849/2849 [==============================] - 44s 15ms/step - loss: 0.0033 - accuracy: 0.9993 - val_loss: 0.0029 - val_accuracy: 0.9994\n",
      "Epoch 25/100\n",
      "2849/2849 [==============================] - 43s 15ms/step - loss: 0.0034 - accuracy: 0.9992 - val_loss: 0.0036 - val_accuracy: 0.9994\n",
      "Epoch 26/100\n",
      "2849/2849 [==============================] - 46s 16ms/step - loss: 0.0034 - accuracy: 0.9993 - val_loss: 0.0031 - val_accuracy: 0.9994\n",
      "Epoch 27/100\n",
      "2849/2849 [==============================] - 45s 16ms/step - loss: 0.0035 - accuracy: 0.9993 - val_loss: 0.0029 - val_accuracy: 0.9995\n",
      "Epoch 28/100\n",
      "2849/2849 [==============================] - 45s 16ms/step - loss: 0.0032 - accuracy: 0.9994 - val_loss: 0.0025 - val_accuracy: 0.9995\n",
      "Epoch 29/100\n",
      "2849/2849 [==============================] - 44s 16ms/step - loss: 0.0032 - accuracy: 0.9993 - val_loss: 0.0031 - val_accuracy: 0.9995\n",
      "Epoch 30/100\n",
      "2849/2849 [==============================] - 43s 15ms/step - loss: 0.0032 - accuracy: 0.9993 - val_loss: 0.0028 - val_accuracy: 0.9995\n",
      "Epoch 31/100\n",
      "2849/2849 [==============================] - 45s 16ms/step - loss: 0.0039 - accuracy: 0.9989 - val_loss: 0.0031 - val_accuracy: 0.9994\n",
      "Epoch 32/100\n",
      "2849/2849 [==============================] - 44s 15ms/step - loss: 0.0039 - accuracy: 0.9992 - val_loss: 0.0037 - val_accuracy: 0.9990\n",
      "Epoch 33/100\n",
      "2849/2849 [==============================] - 43s 15ms/step - loss: 0.0030 - accuracy: 0.9993 - val_loss: 0.0031 - val_accuracy: 0.9993\n",
      "Epoch 34/100\n",
      "2849/2849 [==============================] - 45s 16ms/step - loss: 0.0033 - accuracy: 0.9993 - val_loss: 0.0037 - val_accuracy: 0.9990\n",
      "Epoch 35/100\n",
      "2849/2849 [==============================] - 44s 15ms/step - loss: 0.0032 - accuracy: 0.9993 - val_loss: 0.0032 - val_accuracy: 0.9995\n",
      "Epoch 36/100\n",
      "2849/2849 [==============================] - 53s 18ms/step - loss: 0.0031 - accuracy: 0.9993 - val_loss: 0.0038 - val_accuracy: 0.9992\n",
      "Epoch 37/100\n",
      "2849/2849 [==============================] - 45s 16ms/step - loss: 0.0030 - accuracy: 0.9993 - val_loss: 0.0034 - val_accuracy: 0.9995\n",
      "Epoch 38/100\n",
      "2849/2849 [==============================] - 44s 15ms/step - loss: 0.0032 - accuracy: 0.9993 - val_loss: 0.0038 - val_accuracy: 0.9991\n",
      "Epoch 39/100\n",
      "2849/2849 [==============================] - 46s 16ms/step - loss: 0.0031 - accuracy: 0.9992 - val_loss: 0.0030 - val_accuracy: 0.9992\n",
      "Epoch 40/100\n",
      "2849/2849 [==============================] - 44s 15ms/step - loss: 0.0030 - accuracy: 0.9993 - val_loss: 0.0035 - val_accuracy: 0.9992\n",
      "Epoch 41/100\n",
      "2849/2849 [==============================] - 44s 15ms/step - loss: 0.0031 - accuracy: 0.9993 - val_loss: 0.0048 - val_accuracy: 0.9994\n",
      "Epoch 42/100\n",
      "2849/2849 [==============================] - 46s 16ms/step - loss: 0.0031 - accuracy: 0.9993 - val_loss: 0.0037 - val_accuracy: 0.9992\n",
      "Epoch 43/100\n",
      "2849/2849 [==============================] - 44s 15ms/step - loss: 0.0028 - accuracy: 0.9993 - val_loss: 0.0036 - val_accuracy: 0.9991\n",
      "Epoch 44/100\n",
      "2849/2849 [==============================] - 44s 16ms/step - loss: 0.0030 - accuracy: 0.9993 - val_loss: 0.0039 - val_accuracy: 0.9994\n",
      "Epoch 45/100\n",
      "2849/2849 [==============================] - 45s 16ms/step - loss: 0.0030 - accuracy: 0.9992 - val_loss: 0.0028 - val_accuracy: 0.9993\n",
      "Epoch 46/100\n",
      "2849/2849 [==============================] - 44s 15ms/step - loss: 0.0030 - accuracy: 0.9993 - val_loss: 0.0037 - val_accuracy: 0.9990\n",
      "Epoch 47/100\n",
      "2849/2849 [==============================] - 46s 16ms/step - loss: 0.0029 - accuracy: 0.9993 - val_loss: 0.0039 - val_accuracy: 0.9992\n",
      "Epoch 48/100\n",
      "2849/2849 [==============================] - 44s 15ms/step - loss: 0.0029 - accuracy: 0.9993 - val_loss: 0.0030 - val_accuracy: 0.9994\n",
      "Epoch 49/100\n",
      "2849/2849 [==============================] - 44s 15ms/step - loss: 0.0027 - accuracy: 0.9993 - val_loss: 0.0040 - val_accuracy: 0.9991\n",
      "Epoch 50/100\n",
      "2849/2849 [==============================] - 46s 16ms/step - loss: 0.0028 - accuracy: 0.9994 - val_loss: 0.0029 - val_accuracy: 0.9995\n",
      "Epoch 51/100\n",
      "2849/2849 [==============================] - 44s 15ms/step - loss: 0.0027 - accuracy: 0.9993 - val_loss: 0.0038 - val_accuracy: 0.9991\n",
      "Epoch 52/100\n",
      "2849/2849 [==============================] - 46s 16ms/step - loss: 0.0025 - accuracy: 0.9994 - val_loss: 0.0040 - val_accuracy: 0.9994\n",
      "Epoch 53/100\n",
      "2849/2849 [==============================] - 45s 16ms/step - loss: 0.0029 - accuracy: 0.9993 - val_loss: 0.0034 - val_accuracy: 0.9992\n",
      "Epoch 54/100\n",
      "2849/2849 [==============================] - 43s 15ms/step - loss: 0.0026 - accuracy: 0.9993 - val_loss: 0.0030 - val_accuracy: 0.9993\n",
      "Epoch 55/100\n",
      "2849/2849 [==============================] - 46s 16ms/step - loss: 0.0031 - accuracy: 0.9993 - val_loss: 0.0029 - val_accuracy: 0.9994\n",
      "Epoch 56/100\n",
      "2849/2849 [==============================] - 54s 19ms/step - loss: 0.0028 - accuracy: 0.9993 - val_loss: 0.0041 - val_accuracy: 0.9988\n",
      "Epoch 57/100\n",
      "2849/2849 [==============================] - 50s 17ms/step - loss: 0.0028 - accuracy: 0.9993 - val_loss: 0.0038 - val_accuracy: 0.9991\n",
      "Epoch 58/100\n",
      "2849/2849 [==============================] - 50s 18ms/step - loss: 0.0028 - accuracy: 0.9993 - val_loss: 0.0029 - val_accuracy: 0.9993\n",
      "Epoch 59/100\n",
      "2849/2849 [==============================] - 45s 16ms/step - loss: 0.0026 - accuracy: 0.9994 - val_loss: 0.0046 - val_accuracy: 0.9990\n",
      "Epoch 60/100\n",
      "2849/2849 [==============================] - 45s 16ms/step - loss: 0.0028 - accuracy: 0.9992 - val_loss: 0.0032 - val_accuracy: 0.9993\n",
      "Epoch 61/100\n",
      "2849/2849 [==============================] - 43s 15ms/step - loss: 0.0027 - accuracy: 0.9993 - val_loss: 0.0033 - val_accuracy: 0.9991\n",
      "Epoch 62/100\n",
      "2849/2849 [==============================] - 43s 15ms/step - loss: 0.0025 - accuracy: 0.9993 - val_loss: 0.0039 - val_accuracy: 0.9993\n",
      "Epoch 63/100\n",
      "2849/2849 [==============================] - 45s 16ms/step - loss: 0.0026 - accuracy: 0.9993 - val_loss: 0.0038 - val_accuracy: 0.9991\n",
      "Epoch 64/100\n",
      "2849/2849 [==============================] - 43s 15ms/step - loss: 0.0027 - accuracy: 0.9993 - val_loss: 0.0033 - val_accuracy: 0.9995\n",
      "Epoch 65/100\n",
      "2849/2849 [==============================] - 43s 15ms/step - loss: 0.0027 - accuracy: 0.9993 - val_loss: 0.0037 - val_accuracy: 0.9995\n",
      "Epoch 66/100\n",
      "2849/2849 [==============================] - 45s 16ms/step - loss: 0.0028 - accuracy: 0.9993 - val_loss: 0.0037 - val_accuracy: 0.9992\n",
      "Epoch 67/100\n",
      "2849/2849 [==============================] - 43s 15ms/step - loss: 0.0025 - accuracy: 0.9993 - val_loss: 0.0031 - val_accuracy: 0.9994\n",
      "Epoch 68/100\n",
      "2849/2849 [==============================] - 44s 16ms/step - loss: 0.0027 - accuracy: 0.9993 - val_loss: 0.0029 - val_accuracy: 0.9995\n",
      "Epoch 69/100\n",
      "2849/2849 [==============================] - 44s 15ms/step - loss: 0.0025 - accuracy: 0.9993 - val_loss: 0.0029 - val_accuracy: 0.9993\n",
      "Epoch 70/100\n",
      "2849/2849 [==============================] - 43s 15ms/step - loss: 0.0024 - accuracy: 0.9993 - val_loss: 0.0032 - val_accuracy: 0.9993\n",
      "Epoch 71/100\n",
      "2849/2849 [==============================] - 45s 16ms/step - loss: 0.0025 - accuracy: 0.9993 - val_loss: 0.0034 - val_accuracy: 0.9995\n",
      "Epoch 72/100\n",
      "2849/2849 [==============================] - 44s 15ms/step - loss: 0.0024 - accuracy: 0.9993 - val_loss: 0.0042 - val_accuracy: 0.9993\n",
      "Epoch 73/100\n",
      "2849/2849 [==============================] - 43s 15ms/step - loss: 0.0024 - accuracy: 0.9993 - val_loss: 0.0031 - val_accuracy: 0.9995\n",
      "Epoch 74/100\n",
      "2849/2849 [==============================] - 45s 16ms/step - loss: 0.0027 - accuracy: 0.9993 - val_loss: 0.0038 - val_accuracy: 0.9995\n",
      "Epoch 75/100\n",
      "2849/2849 [==============================] - 44s 15ms/step - loss: 0.0024 - accuracy: 0.9994 - val_loss: 0.0036 - val_accuracy: 0.9993\n",
      "Epoch 76/100\n",
      "2849/2849 [==============================] - 54s 19ms/step - loss: 0.0024 - accuracy: 0.9993 - val_loss: 0.0033 - val_accuracy: 0.9995\n",
      "Epoch 77/100\n",
      "2849/2849 [==============================] - 46s 16ms/step - loss: 0.0024 - accuracy: 0.9994 - val_loss: 0.0043 - val_accuracy: 0.9994\n",
      "Epoch 78/100\n",
      "2849/2849 [==============================] - 44s 15ms/step - loss: 0.0025 - accuracy: 0.9993 - val_loss: 0.0036 - val_accuracy: 0.9993\n",
      "Epoch 79/100\n",
      "2849/2849 [==============================] - 46s 16ms/step - loss: 0.0025 - accuracy: 0.9993 - val_loss: 0.0033 - val_accuracy: 0.9995\n",
      "Epoch 80/100\n",
      "2849/2849 [==============================] - 44s 15ms/step - loss: 0.0024 - accuracy: 0.9994 - val_loss: 0.0033 - val_accuracy: 0.9993\n",
      "Epoch 81/100\n",
      "2849/2849 [==============================] - 44s 15ms/step - loss: 0.0025 - accuracy: 0.9993 - val_loss: 0.0043 - val_accuracy: 0.9995\n",
      "Epoch 82/100\n",
      "2849/2849 [==============================] - 46s 16ms/step - loss: 0.0023 - accuracy: 0.9994 - val_loss: 0.0046 - val_accuracy: 0.9991\n",
      "Epoch 83/100\n",
      "2849/2849 [==============================] - 44s 15ms/step - loss: 0.0023 - accuracy: 0.9994 - val_loss: 0.0047 - val_accuracy: 0.9993\n",
      "Epoch 84/100\n",
      "2849/2849 [==============================] - 45s 16ms/step - loss: 0.0024 - accuracy: 0.9993 - val_loss: 0.0028 - val_accuracy: 0.9995\n",
      "Epoch 85/100\n",
      "2849/2849 [==============================] - 46s 16ms/step - loss: 0.0023 - accuracy: 0.9993 - val_loss: 0.0039 - val_accuracy: 0.9994\n",
      "Epoch 86/100\n",
      "2849/2849 [==============================] - 43s 15ms/step - loss: 0.0024 - accuracy: 0.9993 - val_loss: 0.0038 - val_accuracy: 0.9994\n",
      "Epoch 87/100\n",
      "2849/2849 [==============================] - 45s 16ms/step - loss: 0.0024 - accuracy: 0.9993 - val_loss: 0.0036 - val_accuracy: 0.9993\n",
      "Epoch 88/100\n",
      "2849/2849 [==============================] - 44s 15ms/step - loss: 0.0023 - accuracy: 0.9994 - val_loss: 0.0031 - val_accuracy: 0.9994\n",
      "Epoch 89/100\n",
      "2849/2849 [==============================] - 44s 15ms/step - loss: 0.0024 - accuracy: 0.9993 - val_loss: 0.0027 - val_accuracy: 0.9994\n",
      "Epoch 90/100\n",
      "2849/2849 [==============================] - 46s 16ms/step - loss: 0.0025 - accuracy: 0.9994 - val_loss: 0.0031 - val_accuracy: 0.9995\n",
      "Epoch 91/100\n",
      "2849/2849 [==============================] - 43s 15ms/step - loss: 0.0023 - accuracy: 0.9994 - val_loss: 0.0047 - val_accuracy: 0.9995\n",
      "Epoch 92/100\n",
      "2849/2849 [==============================] - 44s 15ms/step - loss: 0.0024 - accuracy: 0.9994 - val_loss: 0.0034 - val_accuracy: 0.9993\n",
      "Epoch 93/100\n",
      "2849/2849 [==============================] - 45s 16ms/step - loss: 0.0023 - accuracy: 0.9993 - val_loss: 0.0031 - val_accuracy: 0.9994\n",
      "Epoch 94/100\n",
      "2849/2849 [==============================] - 43s 15ms/step - loss: 0.0022 - accuracy: 0.9993 - val_loss: 0.0041 - val_accuracy: 0.9995\n",
      "Epoch 95/100\n",
      "2849/2849 [==============================] - 45s 16ms/step - loss: 0.0023 - accuracy: 0.9993 - val_loss: 0.0040 - val_accuracy: 0.9994\n",
      "Epoch 96/100\n",
      "2849/2849 [==============================] - 57s 20ms/step - loss: 0.0020 - accuracy: 0.9994 - val_loss: 0.0035 - val_accuracy: 0.9994\n",
      "Epoch 97/100\n",
      "2849/2849 [==============================] - 45s 16ms/step - loss: 0.0022 - accuracy: 0.9993 - val_loss: 0.0039 - val_accuracy: 0.9995\n",
      "Epoch 98/100\n",
      "2849/2849 [==============================] - 46s 16ms/step - loss: 0.0022 - accuracy: 0.9993 - val_loss: 0.0038 - val_accuracy: 0.9995\n",
      "Epoch 99/100\n",
      "2849/2849 [==============================] - 44s 15ms/step - loss: 0.0022 - accuracy: 0.9993 - val_loss: 0.0035 - val_accuracy: 0.9994\n",
      "Epoch 100/100\n",
      "2849/2849 [==============================] - 45s 16ms/step - loss: 0.0022 - accuracy: 0.9993 - val_loss: 0.0078 - val_accuracy: 0.9994\n"
     ]
    }
   ],
   "source": [
    "#COMPILING AND FITTING \n",
    "\n",
    "model_20.compile(loss='binary_crossentropy', optimizer='adam', metrics=['accuracy'])\n",
    "history_20 = model_20.fit(X_train_cnn, Y_train, epochs=100, validation_split=0.2, batch_size=64)"
   ]
  },
  {
   "cell_type": "code",
   "execution_count": 8,
   "id": "57b346bc",
   "metadata": {},
   "outputs": [
    {
     "name": "stdout",
     "output_type": "stream",
     "text": [
      "7121/7121 [==============================] - 14s 2ms/step\n"
     ]
    }
   ],
   "source": [
    "#EXTRACTING TRAINING SET FEATURES\n",
    "\n",
    "cnn_features = model_20.predict(X_train_cnn)"
   ]
  },
  {
   "cell_type": "code",
   "execution_count": 9,
   "id": "bb7430b5",
   "metadata": {},
   "outputs": [
    {
     "data": {
      "text/plain": [
       "SVC(kernel='linear', random_state=0)"
      ]
     },
     "execution_count": 9,
     "metadata": {},
     "output_type": "execute_result"
    }
   ],
   "source": [
    "#TRAINING SVM MODEL USING CNN\n",
    "svm_model = SVC(kernel = 'linear', random_state = 0)\n",
    "svm_model.fit(cnn_features, Y_train)"
   ]
  },
  {
   "cell_type": "code",
   "execution_count": 14,
   "id": "3b90716e",
   "metadata": {},
   "outputs": [
    {
     "name": "stdout",
     "output_type": "stream",
     "text": [
      "1781/1781 [==============================] - 3s 2ms/step\n"
     ]
    }
   ],
   "source": [
    "#EXTRACT TEST SET FEATURES\n",
    "\n",
    "cnn_features_test = model_20.predict(X_test_cnn)"
   ]
  },
  {
   "cell_type": "code",
   "execution_count": 15,
   "id": "e6e82b19",
   "metadata": {},
   "outputs": [],
   "source": [
    "#PREDICT USING SVM MODEL\n",
    "\n",
    "svm_pred = svm_model.predict(cnn_features_test)"
   ]
  },
  {
   "cell_type": "code",
   "execution_count": 16,
   "id": "89834031",
   "metadata": {},
   "outputs": [
    {
     "name": "stdout",
     "output_type": "stream",
     "text": [
      "              precision    recall  f1-score   support\n",
      "\n",
      "           0       1.00      1.00      1.00     56861\n",
      "           1       0.86      0.79      0.82       101\n",
      "\n",
      "    accuracy                           1.00     56962\n",
      "   macro avg       0.93      0.90      0.91     56962\n",
      "weighted avg       1.00      1.00      1.00     56962\n",
      "\n",
      "[[56848    13]\n",
      " [   21    80]]\n"
     ]
    }
   ],
   "source": [
    "# PRINT CLASSIFICATION REPORT AND CONFUSION MATRIX\n",
    "print(classification_report(Y_test, svm_pred))\n",
    "print(confusion_matrix(Y_test, svm_pred))"
   ]
  },
  {
   "cell_type": "code",
   "execution_count": 19,
   "id": "97ae5d80",
   "metadata": {},
   "outputs": [
    {
     "name": "stdout",
     "output_type": "stream",
     "text": [
      "The accuracy of the CNN-SVM Transfer Learning Model is 99.9403110845827 %\n"
     ]
    }
   ],
   "source": [
    "#PRINT ACCURACY OF THE CNN-SVM TRANSFER LEARNING MODEL\n",
    "\n",
    "acc_sc = accuracy_score(Y_test, y_pred=svm_pred)\n",
    "print(\"The accuracy of the CNN-SVM Transfer Learning Model is\",acc_sc*100,\"%\")"
   ]
  }
 ],
 "metadata": {
  "kernelspec": {
   "display_name": "Python 3 (ipykernel)",
   "language": "python",
   "name": "python3"
  },
  "language_info": {
   "codemirror_mode": {
    "name": "ipython",
    "version": 3
   },
   "file_extension": ".py",
   "mimetype": "text/x-python",
   "name": "python",
   "nbconvert_exporter": "python",
   "pygments_lexer": "ipython3",
   "version": "3.9.12"
  }
 },
 "nbformat": 4,
 "nbformat_minor": 5
}
