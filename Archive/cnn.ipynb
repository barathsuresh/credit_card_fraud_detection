{
 "cells": [
  {
   "cell_type": "code",
   "execution_count": 1,
   "metadata": {},
   "outputs": [],
   "source": [
    "import numpy as np\n",
    "import pandas as pd\n",
    "import matplotlib.pyplot as plt\n",
    "import seaborn as sns\n",
    "from tensorflow import keras\n",
    "from sklearn.model_selection import train_test_split\n",
    "from sklearn.preprocessing import StandardScaler\n",
    "from sklearn.metrics import accuracy_score\n",
    "from keras.models import Sequential\n",
    "from keras.layers import Conv2D, MaxPooling2D, Flatten, Dense, Dropout\n",
    "\n",
    "# Load the credit card fraud dataset\n",
    "df = pd.read_csv('creditcard.csv')"
   ]
  },
  {
   "cell_type": "code",
   "execution_count": 2,
   "metadata": {},
   "outputs": [],
   "source": [
    "# Scale the features\n",
    "scaler = StandardScaler()\n",
    "df['Amount'] = scaler.fit_transform(df['Amount'].values.reshape(-1, 1))\n",
    "df['Time'] = scaler.fit_transform(df['Time'].values.reshape(-1, 1))"
   ]
  },
  {
   "cell_type": "code",
   "execution_count": 3,
   "metadata": {},
   "outputs": [],
   "source": [
    "# Split the data into training and testing sets\n",
    "X = df.drop(['Class'], axis=1)\n",
    "y = df['Class']\n",
    "X_train, X_test, y_train, y_test = train_test_split(X, y, test_size=0.2, random_state=42)\n",
    "X_train = (X_train - X_train.mean()) / X_train.std()\n",
    "X_test = (X_test - X_train.mean()) / X_train.std()"
   ]
  },
  {
   "cell_type": "code",
   "execution_count": 4,
   "metadata": {},
   "outputs": [],
   "source": [
    "# Reshape the data for the CNN\n",
    "X_train = X_train.values.reshape(-1, 30, 1)\n",
    "X_test = X_test.values.reshape(-1, 30, 1)"
   ]
  },
  {
   "cell_type": "code",
   "execution_count": 5,
   "metadata": {},
   "outputs": [],
   "source": [
    "# Define the CNN model\n",
    "model = keras.Sequential()\n",
    "model.add(keras.layers.Conv1D(32, 2, activation='relu', input_shape=(30, 1)))\n",
    "model.add(keras.layers.MaxPooling1D(2))\n",
    "model.add(keras.layers.Conv1D(64, 2, activation='relu'))\n",
    "model.add(keras.layers.MaxPooling1D(2))\n",
    "model.add(keras.layers.Conv1D(128, 2, activation='relu'))\n",
    "model.add(keras.layers.Conv1D(256, 2, activation='relu'))\n",
    "model.add(keras.layers.Conv1D(512, 2, activation='relu'))\n",
    "model.add(keras.layers.MaxPooling1D(2))\n",
    "model.add(keras.layers.Flatten())\n",
    "model.add(keras.layers.Dense(128, activation='relu'))\n",
    "model.add(keras.layers.Dropout(0.5))\n",
    "model.add(keras.layers.Dense(64, activation='relu'))\n",
    "model.add(keras.layers.Dropout(0.5))\n",
    "model.add(keras.layers.Dense(32, activation='relu'))\n",
    "model.add(keras.layers.Dense(16, activation='relu'))\n",
    "model.add(keras.layers.Dense(8, activation='relu'))\n",
    "model.add(keras.layers.Dense(1, activation='sigmoid'))"
   ]
  },
  {
   "cell_type": "code",
   "execution_count": 6,
   "metadata": {},
   "outputs": [
    {
     "name": "stdout",
     "output_type": "stream",
     "text": [
      "Epoch 1/10\n",
      "1781/1781 [==============================] - 34s 17ms/step - loss: 0.0159 - accuracy: 0.9986 - val_loss: 0.0049 - val_accuracy: 0.9986\n",
      "Epoch 2/10\n",
      "1781/1781 [==============================] - 34s 19ms/step - loss: 0.0050 - accuracy: 0.9991 - val_loss: 0.0034 - val_accuracy: 0.9993\n",
      "Epoch 3/10\n",
      "1781/1781 [==============================] - 32s 18ms/step - loss: 0.0043 - accuracy: 0.9993 - val_loss: 0.0040 - val_accuracy: 0.9994\n",
      "Epoch 4/10\n",
      "1781/1781 [==============================] - 33s 19ms/step - loss: 0.0039 - accuracy: 0.9994 - val_loss: 0.0051 - val_accuracy: 0.9992\n",
      "Epoch 5/10\n",
      "1781/1781 [==============================] - 32s 18ms/step - loss: 0.0041 - accuracy: 0.9993 - val_loss: 0.0040 - val_accuracy: 0.9993\n",
      "Epoch 6/10\n",
      "1781/1781 [==============================] - 31s 18ms/step - loss: 0.0038 - accuracy: 0.9994 - val_loss: 0.0037 - val_accuracy: 0.9993\n",
      "Epoch 7/10\n",
      "1781/1781 [==============================] - 31s 18ms/step - loss: 0.0039 - accuracy: 0.9994 - val_loss: 0.0053 - val_accuracy: 0.9994\n",
      "Epoch 8/10\n",
      "1781/1781 [==============================] - 31s 17ms/step - loss: 0.0040 - accuracy: 0.9993 - val_loss: 0.0034 - val_accuracy: 0.9993\n",
      "Epoch 9/10\n",
      "1781/1781 [==============================] - 31s 18ms/step - loss: 0.0039 - accuracy: 0.9994 - val_loss: 0.0073 - val_accuracy: 0.9993\n",
      "Epoch 10/10\n",
      "1781/1781 [==============================] - 33s 18ms/step - loss: 0.0041 - accuracy: 0.9994 - val_loss: 0.0040 - val_accuracy: 0.9994\n"
     ]
    }
   ],
   "source": [
    "# Compile the model\n",
    "model.compile(optimizer='adam', loss='binary_crossentropy', metrics=['accuracy'])\n",
    "\n",
    "# Fit the model\n",
    "history = model.fit(X_train, y_train, epochs=10, batch_size=128, validation_data=(X_test, y_test))"
   ]
  },
  {
   "cell_type": "code",
   "execution_count": 7,
   "metadata": {},
   "outputs": [
    {
     "name": "stdout",
     "output_type": "stream",
     "text": [
      "1781/1781 [==============================] - 10s 6ms/step\n",
      "Accuracy: 0.9993679997191109\n"
     ]
    }
   ],
   "source": [
    "# Make predictions on the test set\n",
    "y_pred = model.predict(X_test)\n",
    "y_pred = y_pred > 0.5\n",
    "\n",
    "# Calculate the accuracy score\n",
    "accuracy = accuracy_score(y_test, y_pred)\n",
    "print('Accuracy:', accuracy)\n"
   ]
  }
 ],
 "metadata": {
  "kernelspec": {
   "display_name": "Python 3",
   "language": "python",
   "name": "python3"
  },
  "language_info": {
   "codemirror_mode": {
    "name": "ipython",
    "version": 3
   },
   "file_extension": ".py",
   "mimetype": "text/x-python",
   "name": "python",
   "nbconvert_exporter": "python",
   "pygments_lexer": "ipython3",
   "version": "3.11.1"
  },
  "orig_nbformat": 4,
  "vscode": {
   "interpreter": {
    "hash": "a631dd92eb51a38622e055f666e197c618ce40fcfcdfeeb3d75c7a0d949e919a"
   }
  }
 },
 "nbformat": 4,
 "nbformat_minor": 2
}
