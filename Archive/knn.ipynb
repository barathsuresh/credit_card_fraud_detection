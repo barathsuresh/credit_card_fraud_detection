{
 "cells": [
  {
   "cell_type": "code",
   "execution_count": 15,
   "id": "999dad11",
   "metadata": {},
   "outputs": [],
   "source": [
    "#import the libraries\n",
    "import numpy as np\n",
    "import pandas as pd\n",
    "import matplotlib.pyplot as plt"
   ]
  },
  {
   "cell_type": "code",
   "execution_count": 16,
   "id": "ac0b970d",
   "metadata": {},
   "outputs": [],
   "source": [
    "#importing the dataset\n",
    "dataset = pd.read_csv('D:\\Barath Suresh Docs\\PROGRAMMING\\MACHINE LEARNING\\creditcard.csv')\n",
    "x=dataset.iloc[:, :-1].values\n",
    "y=dataset.iloc[:, -1].values"
   ]
  },
  {
   "cell_type": "code",
   "execution_count": 17,
   "id": "8597cf83",
   "metadata": {},
   "outputs": [
    {
     "name": "stdout",
     "output_type": "stream",
     "text": [
      "[[ 0.00000000e+00 -1.35980713e+00 -7.27811733e-02 ...  1.33558377e-01\n",
      "  -2.10530535e-02  1.49620000e+02]\n",
      " [ 0.00000000e+00  1.19185711e+00  2.66150712e-01 ... -8.98309914e-03\n",
      "   1.47241692e-02  2.69000000e+00]\n",
      " [ 1.00000000e+00 -1.35835406e+00 -1.34016307e+00 ... -5.53527940e-02\n",
      "  -5.97518406e-02  3.78660000e+02]\n",
      " ...\n",
      " [ 1.72788000e+05  1.91956501e+00 -3.01253846e-01 ...  4.45477214e-03\n",
      "  -2.65608286e-02  6.78800000e+01]\n",
      " [ 1.72788000e+05 -2.40440050e-01  5.30482513e-01 ...  1.08820735e-01\n",
      "   1.04532821e-01  1.00000000e+01]\n",
      " [ 1.72792000e+05 -5.33412522e-01 -1.89733337e-01 ... -2.41530880e-03\n",
      "   1.36489143e-02  2.17000000e+02]]\n"
     ]
    }
   ],
   "source": [
    "print(x)"
   ]
  },
  {
   "cell_type": "code",
   "execution_count": 18,
   "id": "8bd00d00",
   "metadata": {},
   "outputs": [
    {
     "name": "stdout",
     "output_type": "stream",
     "text": [
      "[0 0 0 ... 0 0 0]\n"
     ]
    }
   ],
   "source": [
    "print(y)"
   ]
  },
  {
   "cell_type": "code",
   "execution_count": 19,
   "id": "43fd69e7",
   "metadata": {},
   "outputs": [],
   "source": [
    "#splitting the dataset\n",
    "from sklearn.model_selection import train_test_split\n",
    "x_train, x_test, y_train, y_test = train_test_split(x, y, test_size=0.2, random_state = 0)"
   ]
  },
  {
   "cell_type": "code",
   "execution_count": 20,
   "id": "2b22fe81",
   "metadata": {},
   "outputs": [
    {
     "name": "stdout",
     "output_type": "stream",
     "text": [
      "[[ 5.31500000e+04 -1.11504743e+00  1.03558276e+00 ...  2.29736936e-01\n",
      "  -7.05913036e-02  1.29500000e+01]\n",
      " [ 4.00600000e+04  1.22847256e+00 -1.38826483e-01 ... -6.91781059e-02\n",
      "   1.89006069e-03  2.55700000e+01]\n",
      " [ 1.54865000e+05  1.92614789e+00 -1.98627962e-01 ...  5.27473012e-02\n",
      "  -3.26215511e-02  6.90000000e+00]\n",
      " ...\n",
      " [ 7.66160000e+04  1.51260229e+00 -9.49435315e-01 ... -1.41537086e-03\n",
      "   3.66494418e-03  3.49000000e+01]\n",
      " [ 9.72530000e+04  1.79886333e+00 -1.69979073e+00 ... -3.36155803e-02\n",
      "  -3.24705125e-02  1.71310000e+02]\n",
      " [ 7.48870000e+04 -5.89399721e-01  7.47828393e-01 ...  8.65917860e-02\n",
      "   1.18083774e-01  1.59900000e+01]]\n"
     ]
    }
   ],
   "source": [
    "print(x_train)"
   ]
  },
  {
   "cell_type": "code",
   "execution_count": 21,
   "id": "e3d67419",
   "metadata": {},
   "outputs": [
    {
     "name": "stdout",
     "output_type": "stream",
     "text": [
      "[[ 1.25821000e+05 -3.23333572e-01  1.05745525e+00 ...  1.08494430e-01\n",
      "   1.61139167e-01  4.00000000e+01]\n",
      " [ 1.57235000e+05 -3.49718405e-01  9.32618570e-01 ...  7.68300272e-02\n",
      "   1.75561960e-01  1.98000000e+00]\n",
      " [ 1.52471000e+05 -1.61471082e+00 -2.40656973e+00 ...  2.86285101e-01\n",
      "   4.37321868e-01  9.60000000e+01]\n",
      " ...\n",
      " [ 1.37149000e+05  1.12540206e+00 -2.28899827e+00 ... -2.40867448e-01\n",
      "  -7.49435187e-03  5.83210000e+02]\n",
      " [ 1.60893000e+05  2.06485724e+00  2.85198054e-01 ... -1.03162057e-01\n",
      "  -6.17434559e-02  2.95000000e+00]\n",
      " [ 1.53086000e+05  2.35138178e+00 -1.32522606e+00 ...  7.26919844e-03\n",
      "  -5.16343390e-02  1.50000000e+01]]\n"
     ]
    }
   ],
   "source": [
    "print(x_test)"
   ]
  },
  {
   "cell_type": "code",
   "execution_count": 22,
   "id": "a0c2dded",
   "metadata": {},
   "outputs": [
    {
     "name": "stdout",
     "output_type": "stream",
     "text": [
      "[0 0 0 ... 0 0 0]\n"
     ]
    }
   ],
   "source": [
    "print(y_train)"
   ]
  },
  {
   "cell_type": "code",
   "execution_count": 23,
   "id": "10f385af",
   "metadata": {},
   "outputs": [
    {
     "name": "stdout",
     "output_type": "stream",
     "text": [
      "[0 0 0 ... 0 0 0]\n"
     ]
    }
   ],
   "source": [
    "print(y_test)"
   ]
  },
  {
   "cell_type": "code",
   "execution_count": 24,
   "id": "deedc847",
   "metadata": {},
   "outputs": [],
   "source": [
    "#feature Scaling  \n",
    "from sklearn.preprocessing import StandardScaler    \n",
    "ss= StandardScaler()    \n",
    "x_train= ss.fit_transform(x_train)    \n",
    "x_test= ss.transform(x_test) "
   ]
  },
  {
   "cell_type": "code",
   "execution_count": 25,
   "id": "8e3400af",
   "metadata": {},
   "outputs": [
    {
     "data": {
      "text/html": [
       "<style>#sk-container-id-2 {color: black;background-color: white;}#sk-container-id-2 pre{padding: 0;}#sk-container-id-2 div.sk-toggleable {background-color: white;}#sk-container-id-2 label.sk-toggleable__label {cursor: pointer;display: block;width: 100%;margin-bottom: 0;padding: 0.3em;box-sizing: border-box;text-align: center;}#sk-container-id-2 label.sk-toggleable__label-arrow:before {content: \"▸\";float: left;margin-right: 0.25em;color: #696969;}#sk-container-id-2 label.sk-toggleable__label-arrow:hover:before {color: black;}#sk-container-id-2 div.sk-estimator:hover label.sk-toggleable__label-arrow:before {color: black;}#sk-container-id-2 div.sk-toggleable__content {max-height: 0;max-width: 0;overflow: hidden;text-align: left;background-color: #f0f8ff;}#sk-container-id-2 div.sk-toggleable__content pre {margin: 0.2em;color: black;border-radius: 0.25em;background-color: #f0f8ff;}#sk-container-id-2 input.sk-toggleable__control:checked~div.sk-toggleable__content {max-height: 200px;max-width: 100%;overflow: auto;}#sk-container-id-2 input.sk-toggleable__control:checked~label.sk-toggleable__label-arrow:before {content: \"▾\";}#sk-container-id-2 div.sk-estimator input.sk-toggleable__control:checked~label.sk-toggleable__label {background-color: #d4ebff;}#sk-container-id-2 div.sk-label input.sk-toggleable__control:checked~label.sk-toggleable__label {background-color: #d4ebff;}#sk-container-id-2 input.sk-hidden--visually {border: 0;clip: rect(1px 1px 1px 1px);clip: rect(1px, 1px, 1px, 1px);height: 1px;margin: -1px;overflow: hidden;padding: 0;position: absolute;width: 1px;}#sk-container-id-2 div.sk-estimator {font-family: monospace;background-color: #f0f8ff;border: 1px dotted black;border-radius: 0.25em;box-sizing: border-box;margin-bottom: 0.5em;}#sk-container-id-2 div.sk-estimator:hover {background-color: #d4ebff;}#sk-container-id-2 div.sk-parallel-item::after {content: \"\";width: 100%;border-bottom: 1px solid gray;flex-grow: 1;}#sk-container-id-2 div.sk-label:hover label.sk-toggleable__label {background-color: #d4ebff;}#sk-container-id-2 div.sk-serial::before {content: \"\";position: absolute;border-left: 1px solid gray;box-sizing: border-box;top: 0;bottom: 0;left: 50%;z-index: 0;}#sk-container-id-2 div.sk-serial {display: flex;flex-direction: column;align-items: center;background-color: white;padding-right: 0.2em;padding-left: 0.2em;position: relative;}#sk-container-id-2 div.sk-item {position: relative;z-index: 1;}#sk-container-id-2 div.sk-parallel {display: flex;align-items: stretch;justify-content: center;background-color: white;position: relative;}#sk-container-id-2 div.sk-item::before, #sk-container-id-2 div.sk-parallel-item::before {content: \"\";position: absolute;border-left: 1px solid gray;box-sizing: border-box;top: 0;bottom: 0;left: 50%;z-index: -1;}#sk-container-id-2 div.sk-parallel-item {display: flex;flex-direction: column;z-index: 1;position: relative;background-color: white;}#sk-container-id-2 div.sk-parallel-item:first-child::after {align-self: flex-end;width: 50%;}#sk-container-id-2 div.sk-parallel-item:last-child::after {align-self: flex-start;width: 50%;}#sk-container-id-2 div.sk-parallel-item:only-child::after {width: 0;}#sk-container-id-2 div.sk-dashed-wrapped {border: 1px dashed gray;margin: 0 0.4em 0.5em 0.4em;box-sizing: border-box;padding-bottom: 0.4em;background-color: white;}#sk-container-id-2 div.sk-label label {font-family: monospace;font-weight: bold;display: inline-block;line-height: 1.2em;}#sk-container-id-2 div.sk-label-container {text-align: center;}#sk-container-id-2 div.sk-container {/* jupyter's `normalize.less` sets `[hidden] { display: none; }` but bootstrap.min.css set `[hidden] { display: none !important; }` so we also need the `!important` here to be able to override the default hidden behavior on the sphinx rendered scikit-learn.org. See: https://github.com/scikit-learn/scikit-learn/issues/21755 */display: inline-block !important;position: relative;}#sk-container-id-2 div.sk-text-repr-fallback {display: none;}</style><div id=\"sk-container-id-2\" class=\"sk-top-container\"><div class=\"sk-text-repr-fallback\"><pre>KNeighborsClassifier()</pre><b>In a Jupyter environment, please rerun this cell to show the HTML representation or trust the notebook. <br />On GitHub, the HTML representation is unable to render, please try loading this page with nbviewer.org.</b></div><div class=\"sk-container\" hidden><div class=\"sk-item\"><div class=\"sk-estimator sk-toggleable\"><input class=\"sk-toggleable__control sk-hidden--visually\" id=\"sk-estimator-id-2\" type=\"checkbox\" checked><label for=\"sk-estimator-id-2\" class=\"sk-toggleable__label sk-toggleable__label-arrow\">KNeighborsClassifier</label><div class=\"sk-toggleable__content\"><pre>KNeighborsClassifier()</pre></div></div></div></div></div>"
      ],
      "text/plain": [
       "KNeighborsClassifier()"
      ]
     },
     "execution_count": 25,
     "metadata": {},
     "output_type": "execute_result"
    }
   ],
   "source": [
    "#training k-nn model\n",
    "from sklearn.neighbors import KNeighborsClassifier \n",
    "classifier= KNeighborsClassifier(n_neighbors = 5) \n",
    "classifier.fit(x_train, y_train)"
   ]
  },
  {
   "cell_type": "code",
   "execution_count": 26,
   "id": "ada10aae",
   "metadata": {},
   "outputs": [
    {
     "name": "stdout",
     "output_type": "stream",
     "text": [
      "[[0 0]\n",
      " [0 0]\n",
      " [0 0]\n",
      " ...\n",
      " [0 0]\n",
      " [0 0]\n",
      " [0 0]]\n"
     ]
    }
   ],
   "source": [
    "#predicting all test results\n",
    "y_pred = classifier.predict(x_test)\n",
    "print(np.concatenate((y_pred.reshape(len(y_pred),1), y_test.reshape(len(y_test),1)),1))"
   ]
  },
  {
   "cell_type": "code",
   "execution_count": 27,
   "id": "30b51483",
   "metadata": {},
   "outputs": [
    {
     "name": "stdout",
     "output_type": "stream",
     "text": [
      "[[56852     9]\n",
      " [   20    81]]\n"
     ]
    }
   ],
   "source": [
    "#making the confusion matrix\n",
    "from sklearn.metrics import confusion_matrix\n",
    "cnm = confusion_matrix(y_test, y_pred)\n",
    "print(cnm)"
   ]
  },
  {
   "cell_type": "code",
   "execution_count": 28,
   "id": "75e32113",
   "metadata": {},
   "outputs": [
    {
     "name": "stdout",
     "output_type": "stream",
     "text": [
      "The accuracy score of k-nn model is 99.94908886626172 %\n"
     ]
    }
   ],
   "source": [
    "#finding Accuracy score\n",
    "from sklearn.metrics import accuracy_score\n",
    "acs = accuracy_score(y_test, y_pred)*100\n",
    "print(\"The accuracy score of k-nn model is\",acs,\"%\")"
   ]
  },
  {
   "cell_type": "code",
   "execution_count": 29,
   "id": "fe87b913",
   "metadata": {},
   "outputs": [
    {
     "name": "stdout",
     "output_type": "stream",
     "text": [
      "The f1 score of k-nn model is 84.81675392670157 %\n"
     ]
    }
   ],
   "source": [
    "#finding F1 score\n",
    "from sklearn.metrics import f1_score\n",
    "fs= f1_score(y_test, y_pred)*100\n",
    "print(\"The f1 score of k-nn model is\",fs,\"%\")"
   ]
  }
 ],
 "metadata": {
  "kernelspec": {
   "display_name": "Python 3 (ipykernel)",
   "language": "python",
   "name": "python3"
  },
  "language_info": {
   "codemirror_mode": {
    "name": "ipython",
    "version": 3
   },
   "file_extension": ".py",
   "mimetype": "text/x-python",
   "name": "python",
   "nbconvert_exporter": "python",
   "pygments_lexer": "ipython3",
   "version": "3.11.1"
  }
 },
 "nbformat": 4,
 "nbformat_minor": 5
}
