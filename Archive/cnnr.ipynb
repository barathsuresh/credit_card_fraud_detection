{
 "cells": [
  {
   "cell_type": "code",
   "execution_count": 1,
   "id": "ad35e3a5",
   "metadata": {},
   "outputs": [],
   "source": [
    "import tensorflow as tf\n",
    "from tensorflow import keras\n",
    "import numpy as np\n",
    "import pandas as pd\n",
    "import seaborn as sns\n",
    "from sklearn.svm import SVC\n",
    "from sklearn.metrics import accuracy_score, classification_report, confusion_matrix, f1_score\n",
    "from keras.models import Sequential\n",
    "from keras.layers import Conv1D, MaxPooling1D, Flatten, Dense, Dropout, BatchNormalization\n",
    "from keras import layers\n",
    "import matplotlib.pyplot as plt\n",
    "from tabulate import tabulate\n",
    "from sklearn.model_selection import train_test_split\n",
    "from sklearn.preprocessing import StandardScaler"
   ]
  },
  {
   "cell_type": "code",
   "execution_count": 2,
   "id": "e463cfda",
   "metadata": {},
   "outputs": [],
   "source": [
    "#IMPORTING THE DATASET\n",
    "\n",
    "data = pd.read_csv('creditcard.csv')"
   ]
  },
  {
   "cell_type": "code",
   "execution_count": 3,
   "id": "b5689ea1",
   "metadata": {},
   "outputs": [
    {
     "data": {
      "text/plain": [
       "<Axes: xlabel='Class', ylabel='count'>"
      ]
     },
     "execution_count": 3,
     "metadata": {},
     "output_type": "execute_result"
    },
    {
     "data": {
      "image/png": "[encoded data removed]",
      "text/plain": [
       "<Figure size 640x480 with 1 Axes>"
      ]
     },
     "metadata": {},
     "output_type": "display_data"
    }
   ],
   "source": [
    "#SPLITTING THE DATASET\n",
    "\n",
    "X = data.iloc[:, :-1]\n",
    "y = data.iloc[:, -1]\n",
    "X_train, X_test, Y_train, Y_test = train_test_split(X, y, test_size=0.2, random_state=42)\n",
    "sns.countplot(x='Class',data=data)"
   ]
  },
  {
   "cell_type": "code",
   "execution_count": 4,
   "id": "a51172ea",
   "metadata": {},
   "outputs": [],
   "source": [
    "#FEATURE SCALLING\n",
    "\n",
    "X_train, X_test, Y_train, Y_test = train_test_split(X, y, test_size=0.2, random_state=42)\n",
    "scaler = StandardScaler()\n",
    "data['Amount'] = scaler.fit_transform(data['Amount'].values.reshape(-1, 1))\n",
    "data['Time'] = scaler.fit_transform(data['Time'].values.reshape(-1, 1))\n"
   ]
  },
  {
   "cell_type": "code",
   "execution_count": 5,
   "id": "a5083678",
   "metadata": {},
   "outputs": [],
   "source": [
    "#RESHAPE DATA FOR CNN\n",
    "\n",
    "X_train_cnn = (X_train - X_train.mean()) / X_train.std()\n",
    "X_test_cnn = (X_test - X_train.mean()) / X_train.std()\n",
    "\n",
    "X_train_cnn = X_train_cnn.values.reshape(-1, 30, 1)\n",
    "X_test_cnn = X_test_cnn.values.reshape(-1, 30, 1)"
   ]
  },
  {
   "cell_type": "code",
   "execution_count": 11,
   "id": "f869e7ab",
   "metadata": {},
   "outputs": [],
   "source": [
    "#MODEL WITH 14 LAYERS \n",
    "\n",
    "model_14 = keras.Sequential([\n",
    "    keras.layers.Conv1D(filters=32,kernel_size=2,activation=\"relu\",input_shape=(X_train_cnn.shape[1],1)),\n",
    "    keras.layers.BatchNormalization(),\n",
    "    keras.layers.Dropout(0.2),\n",
    "\n",
    "    keras.layers.Conv1D(filters=64,kernel_size=2,activation=\"relu\"),\n",
    "    keras.layers.BatchNormalization(),\n",
    "    keras.layers.Dropout(0.5),\n",
    "    \n",
    "    keras.layers.LSTM(64, return_sequences=True),\n",
    "    keras.layers.BatchNormalization(),\n",
    "    keras.layers.Dropout(0.2),\n",
    "    \n",
    "    keras.layers.LSTM(128, return_sequences=True),\n",
    "    keras.layers.BatchNormalization(),\n",
    "    keras.layers.Dropout(0.5),\n",
    "    \n",
    "    keras.layers.Dense(100,activation=\"relu\"),\n",
    "    keras.layers.Dense(50,activation=\"relu\"),\n",
    "    keras.layers.Dense(25,activation=\"relu\"),\n",
    "    keras.layers.Dense(1, activation='sigmoid')\n",
    "])\n"
   ]
  },
  {
   "cell_type": "code",
   "execution_count": 12,
   "id": "bab30133",
   "metadata": {},
   "outputs": [],
   "source": [
    "X_train_cnn = np.reshape(X_train.values, (X_train.shape[0], X_train.shape[1], 1))\n",
    "X_test_cnn = np.reshape(X_test.values, (X_test.shape[0], X_test.shape[1], 1))"
   ]
  },
  {
   "cell_type": "code",
   "execution_count": 13,
   "id": "1428c75c",
   "metadata": {},
   "outputs": [
    {
     "name": "stdout",
     "output_type": "stream",
     "text": [
      "Epoch 1/100\n",
      "2849/2849 [==============================] - 134s 46ms/step - loss: 0.0093 - accuracy: 0.9981 - val_loss: 0.0063 - val_accuracy: 0.9987\n",
      "Epoch 2/100\n",
      "2849/2849 [==============================] - 145s 51ms/step - loss: 0.0068 - accuracy: 0.9987 - val_loss: 0.0056 - val_accuracy: 0.9989\n",
      "Epoch 3/100\n",
      "2849/2849 [==============================] - 150s 53ms/step - loss: 0.0061 - accuracy: 0.9989 - val_loss: 0.0051 - val_accuracy: 0.9990\n",
      "Epoch 4/100\n",
      "2849/2849 [==============================] - 141s 50ms/step - loss: 0.0057 - accuracy: 0.9989 - val_loss: 0.0047 - val_accuracy: 0.9991\n",
      "Epoch 5/100\n",
      "2849/2849 [==============================] - 141s 49ms/step - loss: 0.0055 - accuracy: 0.9990 - val_loss: 0.0049 - val_accuracy: 0.9991\n",
      "Epoch 6/100\n",
      "2849/2849 [==============================] - 145s 51ms/step - loss: 0.0052 - accuracy: 0.9990 - val_loss: 0.0046 - val_accuracy: 0.9991\n",
      "Epoch 7/100\n",
      "2849/2849 [==============================] - 148s 52ms/step - loss: 0.0050 - accuracy: 0.9990 - val_loss: 0.0045 - val_accuracy: 0.9991\n",
      "Epoch 8/100\n",
      "2849/2849 [==============================] - 140s 49ms/step - loss: 0.0049 - accuracy: 0.9991 - val_loss: 0.0043 - val_accuracy: 0.9991\n",
      "Epoch 9/100\n",
      "2849/2849 [==============================] - 139s 49ms/step - loss: 0.0049 - accuracy: 0.9991 - val_loss: 0.0049 - val_accuracy: 0.9991\n",
      "Epoch 10/100\n",
      "2849/2849 [==============================] - 138s 49ms/step - loss: 0.0048 - accuracy: 0.9991 - val_loss: 0.0041 - val_accuracy: 0.9991\n",
      "Epoch 11/100\n",
      "2849/2849 [==============================] - 137s 48ms/step - loss: 0.0047 - accuracy: 0.9991 - val_loss: 0.0047 - val_accuracy: 0.9990\n",
      "Epoch 12/100\n",
      "2849/2849 [==============================] - 138s 49ms/step - loss: 0.0049 - accuracy: 0.9991 - val_loss: 0.0043 - val_accuracy: 0.9991\n",
      "Epoch 13/100\n",
      "2849/2849 [==============================] - 138s 48ms/step - loss: 0.0046 - accuracy: 0.9991 - val_loss: 0.0046 - val_accuracy: 0.9991\n",
      "Epoch 14/100\n",
      "2849/2849 [==============================] - 139s 49ms/step - loss: 0.0047 - accuracy: 0.9991 - val_loss: 0.0043 - val_accuracy: 0.9991\n",
      "Epoch 15/100\n",
      "2849/2849 [==============================] - 146s 51ms/step - loss: 0.0046 - accuracy: 0.9991 - val_loss: 0.0046 - val_accuracy: 0.9991\n",
      "Epoch 16/100\n",
      "2849/2849 [==============================] - 145s 51ms/step - loss: 0.0046 - accuracy: 0.9991 - val_loss: 0.0044 - val_accuracy: 0.9991\n",
      "Epoch 17/100\n",
      "2849/2849 [==============================] - 147s 51ms/step - loss: 0.0046 - accuracy: 0.9991 - val_loss: 0.0041 - val_accuracy: 0.9991\n",
      "Epoch 18/100\n",
      "2849/2849 [==============================] - 144s 50ms/step - loss: 0.0047 - accuracy: 0.9991 - val_loss: 0.0040 - val_accuracy: 0.9992\n",
      "Epoch 19/100\n",
      "2849/2849 [==============================] - 145s 51ms/step - loss: 0.0045 - accuracy: 0.9992 - val_loss: 0.0039 - val_accuracy: 0.9992\n",
      "Epoch 20/100\n",
      "2849/2849 [==============================] - 148s 52ms/step - loss: 0.0045 - accuracy: 0.9992 - val_loss: 0.0043 - val_accuracy: 0.9991\n",
      "Epoch 21/100\n",
      "2849/2849 [==============================] - 151s 53ms/step - loss: 0.0045 - accuracy: 0.9991 - val_loss: 0.0041 - val_accuracy: 0.9991\n",
      "Epoch 22/100\n",
      "2849/2849 [==============================] - 151s 53ms/step - loss: 0.0044 - accuracy: 0.9992 - val_loss: 0.0040 - val_accuracy: 0.9991\n",
      "Epoch 23/100\n",
      "2849/2849 [==============================] - 148s 52ms/step - loss: 0.0044 - accuracy: 0.9992 - val_loss: 0.0043 - val_accuracy: 0.9992\n",
      "Epoch 24/100\n",
      "2849/2849 [==============================] - 161s 57ms/step - loss: 0.0044 - accuracy: 0.9992 - val_loss: 0.0043 - val_accuracy: 0.9991\n",
      "Epoch 25/100\n",
      "2849/2849 [==============================] - 155s 54ms/step - loss: 0.0043 - accuracy: 0.9992 - val_loss: 0.0039 - val_accuracy: 0.9992\n",
      "Epoch 26/100\n",
      "2849/2849 [==============================] - 150s 53ms/step - loss: 0.0045 - accuracy: 0.9992 - val_loss: 0.0041 - val_accuracy: 0.9992\n",
      "Epoch 27/100\n",
      "2849/2849 [==============================] - 144s 51ms/step - loss: 0.0042 - accuracy: 0.9992 - val_loss: 0.0056 - val_accuracy: 0.9991\n",
      "Epoch 28/100\n",
      "2849/2849 [==============================] - 148s 52ms/step - loss: 0.0044 - accuracy: 0.9992 - val_loss: 0.0040 - val_accuracy: 0.9992\n",
      "Epoch 29/100\n",
      "2849/2849 [==============================] - 145s 51ms/step - loss: 0.0044 - accuracy: 0.9991 - val_loss: 0.0039 - val_accuracy: 0.9991\n",
      "Epoch 30/100\n",
      "2849/2849 [==============================] - 144s 50ms/step - loss: 0.0043 - accuracy: 0.9992 - val_loss: 0.0040 - val_accuracy: 0.9991\n",
      "Epoch 31/100\n",
      "2849/2849 [==============================] - 145s 51ms/step - loss: 0.0044 - accuracy: 0.9992 - val_loss: 0.0039 - val_accuracy: 0.9992\n",
      "Epoch 32/100\n",
      "2849/2849 [==============================] - 147s 52ms/step - loss: 0.0043 - accuracy: 0.9992 - val_loss: 0.0040 - val_accuracy: 0.9992\n",
      "Epoch 33/100\n",
      "2849/2849 [==============================] - 144s 51ms/step - loss: 0.0042 - accuracy: 0.9992 - val_loss: 0.0045 - val_accuracy: 0.9992\n",
      "Epoch 34/100\n",
      "2849/2849 [==============================] - 144s 51ms/step - loss: 0.0043 - accuracy: 0.9992 - val_loss: 0.0043 - val_accuracy: 0.9990\n",
      "Epoch 35/100\n",
      "2849/2849 [==============================] - 144s 51ms/step - loss: 0.0043 - accuracy: 0.9992 - val_loss: 0.0039 - val_accuracy: 0.9992\n",
      "Epoch 36/100\n",
      "2849/2849 [==============================] - 150s 53ms/step - loss: 0.0042 - accuracy: 0.9992 - val_loss: 0.0039 - val_accuracy: 0.9992\n",
      "Epoch 37/100\n",
      "2849/2849 [==============================] - 148s 52ms/step - loss: 0.0043 - accuracy: 0.9992 - val_loss: 0.0040 - val_accuracy: 0.9992\n",
      "Epoch 38/100\n",
      "2849/2849 [==============================] - 146s 51ms/step - loss: 0.0042 - accuracy: 0.9992 - val_loss: 0.0039 - val_accuracy: 0.9992\n",
      "Epoch 39/100\n",
      "2849/2849 [==============================] - 145s 51ms/step - loss: 0.0041 - accuracy: 0.9992 - val_loss: 0.0044 - val_accuracy: 0.9991\n",
      "Epoch 40/100\n",
      "2849/2849 [==============================] - 144s 51ms/step - loss: 0.0041 - accuracy: 0.9992 - val_loss: 0.0039 - val_accuracy: 0.9991\n",
      "Epoch 41/100\n",
      "2849/2849 [==============================] - 144s 51ms/step - loss: 0.0042 - accuracy: 0.9992 - val_loss: 0.0038 - val_accuracy: 0.9991\n",
      "Epoch 42/100\n",
      "2849/2849 [==============================] - 144s 51ms/step - loss: 0.0041 - accuracy: 0.9992 - val_loss: 0.0039 - val_accuracy: 0.9992\n",
      "Epoch 43/100\n",
      "2849/2849 [==============================] - 144s 51ms/step - loss: 0.0042 - accuracy: 0.9992 - val_loss: 0.0043 - val_accuracy: 0.9991\n",
      "Epoch 44/100\n",
      "2849/2849 [==============================] - 145s 51ms/step - loss: 0.0042 - accuracy: 0.9992 - val_loss: 0.0039 - val_accuracy: 0.9992\n",
      "Epoch 45/100\n",
      "2849/2849 [==============================] - 144s 50ms/step - loss: 0.0042 - accuracy: 0.9992 - val_loss: 0.0039 - val_accuracy: 0.9992\n",
      "Epoch 46/100\n",
      "2849/2849 [==============================] - 146s 51ms/step - loss: 0.0040 - accuracy: 0.9992 - val_loss: 0.0039 - val_accuracy: 0.9992\n",
      "Epoch 47/100\n",
      "2849/2849 [==============================] - 143s 50ms/step - loss: 0.0041 - accuracy: 0.9992 - val_loss: 0.0040 - val_accuracy: 0.9992\n",
      "Epoch 48/100\n",
      "2849/2849 [==============================] - 143s 50ms/step - loss: 0.0040 - accuracy: 0.9992 - val_loss: 0.0040 - val_accuracy: 0.9992\n",
      "Epoch 49/100\n",
      "2849/2849 [==============================] - 145s 51ms/step - loss: 0.0042 - accuracy: 0.9992 - val_loss: 0.0042 - val_accuracy: 0.9992\n",
      "Epoch 50/100\n",
      "2849/2849 [==============================] - 143s 50ms/step - loss: 0.0041 - accuracy: 0.9992 - val_loss: 0.0042 - val_accuracy: 0.9992\n",
      "Epoch 51/100\n",
      "2849/2849 [==============================] - 219s 77ms/step - loss: 0.0041 - accuracy: 0.9992 - val_loss: 0.0043 - val_accuracy: 0.9992\n",
      "Epoch 52/100\n",
      "2849/2849 [==============================] - 182s 64ms/step - loss: 0.0040 - accuracy: 0.9992 - val_loss: 0.0039 - val_accuracy: 0.9992\n",
      "Epoch 53/100\n",
      "2849/2849 [==============================] - 173s 61ms/step - loss: 0.0040 - accuracy: 0.9992 - val_loss: 0.0039 - val_accuracy: 0.9992\n",
      "Epoch 54/100\n",
      "2849/2849 [==============================] - 172s 60ms/step - loss: 0.0040 - accuracy: 0.9992 - val_loss: 0.0038 - val_accuracy: 0.9992\n",
      "Epoch 55/100\n",
      "2849/2849 [==============================] - 174s 61ms/step - loss: 0.0041 - accuracy: 0.9992 - val_loss: 0.0039 - val_accuracy: 0.9992\n",
      "Epoch 56/100\n",
      "2849/2849 [==============================] - 161s 57ms/step - loss: 0.0042 - accuracy: 0.9992 - val_loss: 0.0039 - val_accuracy: 0.9992\n",
      "Epoch 57/100\n",
      "2849/2849 [==============================] - 144s 51ms/step - loss: 0.0041 - accuracy: 0.9992 - val_loss: 0.0038 - val_accuracy: 0.9992\n",
      "Epoch 58/100\n",
      "2849/2849 [==============================] - 143s 50ms/step - loss: 0.0040 - accuracy: 0.9992 - val_loss: 0.0038 - val_accuracy: 0.9992\n",
      "Epoch 59/100\n",
      "2849/2849 [==============================] - 143s 50ms/step - loss: 0.0040 - accuracy: 0.9992 - val_loss: 0.0038 - val_accuracy: 0.9992\n",
      "Epoch 60/100\n",
      "2849/2849 [==============================] - 145s 51ms/step - loss: 0.0040 - accuracy: 0.9992 - val_loss: 0.0039 - val_accuracy: 0.9992\n",
      "Epoch 61/100\n",
      "2849/2849 [==============================] - 144s 50ms/step - loss: 0.0041 - accuracy: 0.9992 - val_loss: 0.0038 - val_accuracy: 0.9992\n",
      "Epoch 62/100\n",
      "2849/2849 [==============================] - 147s 52ms/step - loss: 0.0041 - accuracy: 0.9992 - val_loss: 0.0040 - val_accuracy: 0.9992\n",
      "Epoch 63/100\n",
      "2849/2849 [==============================] - 147s 52ms/step - loss: 0.0040 - accuracy: 0.9992 - val_loss: 0.0037 - val_accuracy: 0.9992\n",
      "Epoch 64/100\n",
      "2849/2849 [==============================] - 147s 52ms/step - loss: 0.0039 - accuracy: 0.9992 - val_loss: 0.0038 - val_accuracy: 0.9992\n",
      "Epoch 65/100\n",
      "2849/2849 [==============================] - 148s 52ms/step - loss: 0.0040 - accuracy: 0.9992 - val_loss: 0.0044 - val_accuracy: 0.9991\n",
      "Epoch 66/100\n",
      "2849/2849 [==============================] - 146s 51ms/step - loss: 0.0040 - accuracy: 0.9992 - val_loss: 0.0038 - val_accuracy: 0.9992\n",
      "Epoch 67/100\n",
      "2849/2849 [==============================] - 146s 51ms/step - loss: 0.0040 - accuracy: 0.9992 - val_loss: 0.0039 - val_accuracy: 0.9992\n",
      "Epoch 68/100\n",
      "2849/2849 [==============================] - 145s 51ms/step - loss: 0.0040 - accuracy: 0.9992 - val_loss: 0.0040 - val_accuracy: 0.9992\n",
      "Epoch 69/100\n",
      "2849/2849 [==============================] - 147s 51ms/step - loss: 0.0041 - accuracy: 0.9992 - val_loss: 0.0038 - val_accuracy: 0.9992\n",
      "Epoch 70/100\n",
      "2849/2849 [==============================] - 147s 52ms/step - loss: 0.0039 - accuracy: 0.9992 - val_loss: 0.0038 - val_accuracy: 0.9992\n",
      "Epoch 71/100\n",
      "2849/2849 [==============================] - 146s 51ms/step - loss: 0.0040 - accuracy: 0.9992 - val_loss: 0.0039 - val_accuracy: 0.9992\n",
      "Epoch 72/100\n",
      "2849/2849 [==============================] - 147s 52ms/step - loss: 0.0041 - accuracy: 0.9992 - val_loss: 0.0039 - val_accuracy: 0.9992\n",
      "Epoch 73/100\n",
      "2849/2849 [==============================] - 146s 51ms/step - loss: 0.0040 - accuracy: 0.9992 - val_loss: 0.0042 - val_accuracy: 0.9992\n",
      "Epoch 74/100\n",
      "2849/2849 [==============================] - 146s 51ms/step - loss: 0.0040 - accuracy: 0.9992 - val_loss: 0.0037 - val_accuracy: 0.9992\n",
      "Epoch 75/100\n",
      "2849/2849 [==============================] - 146s 51ms/step - loss: 0.0040 - accuracy: 0.9992 - val_loss: 0.0039 - val_accuracy: 0.9992\n",
      "Epoch 76/100\n",
      "2849/2849 [==============================] - 153s 54ms/step - loss: 0.0040 - accuracy: 0.9992 - val_loss: 0.0039 - val_accuracy: 0.9992\n",
      "Epoch 77/100\n",
      "2849/2849 [==============================] - 151s 53ms/step - loss: 0.0040 - accuracy: 0.9992 - val_loss: 0.0037 - val_accuracy: 0.9992\n",
      "Epoch 78/100\n",
      "2849/2849 [==============================] - 145s 51ms/step - loss: 0.0040 - accuracy: 0.9992 - val_loss: 0.0038 - val_accuracy: 0.9992\n",
      "Epoch 79/100\n",
      "2849/2849 [==============================] - 146s 51ms/step - loss: 0.0040 - accuracy: 0.9992 - val_loss: 0.0037 - val_accuracy: 0.9992\n",
      "Epoch 80/100\n",
      "2849/2849 [==============================] - 150s 53ms/step - loss: 0.0038 - accuracy: 0.9992 - val_loss: 0.0040 - val_accuracy: 0.9992\n",
      "Epoch 81/100\n",
      "2849/2849 [==============================] - 147s 52ms/step - loss: 0.0041 - accuracy: 0.9992 - val_loss: 0.0039 - val_accuracy: 0.9992\n",
      "Epoch 82/100\n",
      "2849/2849 [==============================] - 151s 53ms/step - loss: 0.0039 - accuracy: 0.9992 - val_loss: 0.0038 - val_accuracy: 0.9992\n",
      "Epoch 83/100\n",
      "2849/2849 [==============================] - 148s 52ms/step - loss: 0.0039 - accuracy: 0.9992 - val_loss: 0.0037 - val_accuracy: 0.9992\n",
      "Epoch 84/100\n",
      "2849/2849 [==============================] - 149s 52ms/step - loss: 0.0039 - accuracy: 0.9992 - val_loss: 0.0038 - val_accuracy: 0.9992\n",
      "Epoch 85/100\n",
      "2849/2849 [==============================] - 145s 51ms/step - loss: 0.0039 - accuracy: 0.9992 - val_loss: 0.0039 - val_accuracy: 0.9992\n",
      "Epoch 86/100\n",
      "2849/2849 [==============================] - 145s 51ms/step - loss: 0.0040 - accuracy: 0.9992 - val_loss: 0.0037 - val_accuracy: 0.9992\n",
      "Epoch 87/100\n",
      "2849/2849 [==============================] - 152s 53ms/step - loss: 0.0040 - accuracy: 0.9992 - val_loss: 0.0037 - val_accuracy: 0.9992\n",
      "Epoch 88/100\n",
      "2849/2849 [==============================] - 145s 51ms/step - loss: 0.0040 - accuracy: 0.9992 - val_loss: 0.0038 - val_accuracy: 0.9992\n",
      "Epoch 89/100\n",
      "2849/2849 [==============================] - 150s 53ms/step - loss: 0.0039 - accuracy: 0.9992 - val_loss: 0.0039 - val_accuracy: 0.9992\n",
      "Epoch 90/100\n",
      "2849/2849 [==============================] - 152s 53ms/step - loss: 0.0039 - accuracy: 0.9992 - val_loss: 0.0038 - val_accuracy: 0.9992\n",
      "Epoch 91/100\n",
      "2849/2849 [==============================] - 148s 52ms/step - loss: 0.0039 - accuracy: 0.9992 - val_loss: 0.0037 - val_accuracy: 0.9992\n",
      "Epoch 92/100\n",
      "2849/2849 [==============================] - 149s 52ms/step - loss: 0.0039 - accuracy: 0.9992 - val_loss: 0.0039 - val_accuracy: 0.9992\n",
      "Epoch 93/100\n",
      "2849/2849 [==============================] - 150s 53ms/step - loss: 0.0041 - accuracy: 0.9992 - val_loss: 0.0039 - val_accuracy: 0.9992\n",
      "Epoch 94/100\n",
      "2849/2849 [==============================] - 145s 51ms/step - loss: 0.0040 - accuracy: 0.9992 - val_loss: 0.0039 - val_accuracy: 0.9992\n",
      "Epoch 95/100\n",
      "2849/2849 [==============================] - 145s 51ms/step - loss: 0.0040 - accuracy: 0.9992 - val_loss: 0.0039 - val_accuracy: 0.9992\n",
      "Epoch 96/100\n",
      "2849/2849 [==============================] - 146s 51ms/step - loss: 0.0039 - accuracy: 0.9992 - val_loss: 0.0039 - val_accuracy: 0.9992\n",
      "Epoch 97/100\n",
      "2849/2849 [==============================] - 148s 52ms/step - loss: 0.0040 - accuracy: 0.9992 - val_loss: 0.0040 - val_accuracy: 0.9992\n",
      "Epoch 98/100\n",
      "2849/2849 [==============================] - 146s 51ms/step - loss: 0.0040 - accuracy: 0.9992 - val_loss: 0.0040 - val_accuracy: 0.9992\n",
      "Epoch 99/100\n",
      "2849/2849 [==============================] - 143s 50ms/step - loss: 0.0040 - accuracy: 0.9992 - val_loss: 0.0039 - val_accuracy: 0.9992\n",
      "Epoch 100/100\n",
      "2849/2849 [==============================] - 144s 51ms/step - loss: 0.0041 - accuracy: 0.9992 - val_loss: 0.0041 - val_accuracy: 0.9992\n"
     ]
    }
   ],
   "source": [
    "#COMPILING AND FITTING \n",
    "\n",
    "model_14.compile(loss='binary_crossentropy', optimizer='adam', metrics=['accuracy'])\n",
    "history_14 = model_14.fit(X_train, Y_train, epochs=10, batch_size=64, validation_split=0.2)"
   ]
  },
  {
   "cell_type": "code",
   "execution_count": 14,
   "id": "160a1854",
   "metadata": {},
   "outputs": [
    {
     "name": "stdout",
     "output_type": "stream",
     "text": [
      "7121/7121 [==============================] - 63s 9ms/step\n"
     ]
    }
   ],
   "source": [
    "#EXTRACTING FEATURES\n",
    "\n",
    "cnn_features = model_14.predict(X_train_cnn)"
   ]
  },
  {
   "cell_type": "code",
   "execution_count": 15,
   "id": "45c48111",
   "metadata": {},
   "outputs": [
    {
     "ename": "ValueError",
     "evalue": "Found array with dim 3. SVC expected <= 2.",
     "output_type": "error",
     "traceback": [
      "\u001b[1;31m---------------------------------------------------------------------------\u001b[0m",
      "\u001b[1;31mValueError\u001b[0m                                Traceback (most recent call last)",
      "Cell \u001b[1;32mIn[15], line 4\u001b[0m\n\u001b[0;32m      1\u001b[0m \u001b[39m#TRAINING RANDOM FOREST MODEL USING CNN\u001b[39;00m\n\u001b[0;32m      3\u001b[0m svm_model \u001b[39m=\u001b[39m SVC(kernel \u001b[39m=\u001b[39m \u001b[39m'\u001b[39m\u001b[39mlinear\u001b[39m\u001b[39m'\u001b[39m, random_state \u001b[39m=\u001b[39m \u001b[39m42\u001b[39m)\n\u001b[1;32m----> 4\u001b[0m svm_model\u001b[39m.\u001b[39;49mfit(cnn_features, Y_train)\n",
      "File \u001b[1;32mc:\\Users\\barath_suresh\\AppData\\Local\\Programs\\Python\\Python311\\Lib\\site-packages\\sklearn\\svm\\_base.py:192\u001b[0m, in \u001b[0;36mBaseLibSVM.fit\u001b[1;34m(self, X, y, sample_weight)\u001b[0m\n\u001b[0;32m    190\u001b[0m     check_consistent_length(X, y)\n\u001b[0;32m    191\u001b[0m \u001b[39melse\u001b[39;00m:\n\u001b[1;32m--> 192\u001b[0m     X, y \u001b[39m=\u001b[39m \u001b[39mself\u001b[39;49m\u001b[39m.\u001b[39;49m_validate_data(\n\u001b[0;32m    193\u001b[0m         X,\n\u001b[0;32m    194\u001b[0m         y,\n\u001b[0;32m    195\u001b[0m         dtype\u001b[39m=\u001b[39;49mnp\u001b[39m.\u001b[39;49mfloat64,\n\u001b[0;32m    196\u001b[0m         order\u001b[39m=\u001b[39;49m\u001b[39m\"\u001b[39;49m\u001b[39mC\u001b[39;49m\u001b[39m\"\u001b[39;49m,\n\u001b[0;32m    197\u001b[0m         accept_sparse\u001b[39m=\u001b[39;49m\u001b[39m\"\u001b[39;49m\u001b[39mcsr\u001b[39;49m\u001b[39m\"\u001b[39;49m,\n\u001b[0;32m    198\u001b[0m         accept_large_sparse\u001b[39m=\u001b[39;49m\u001b[39mFalse\u001b[39;49;00m,\n\u001b[0;32m    199\u001b[0m     )\n\u001b[0;32m    201\u001b[0m y \u001b[39m=\u001b[39m \u001b[39mself\u001b[39m\u001b[39m.\u001b[39m_validate_targets(y)\n\u001b[0;32m    203\u001b[0m sample_weight \u001b[39m=\u001b[39m np\u001b[39m.\u001b[39masarray(\n\u001b[0;32m    204\u001b[0m     [] \u001b[39mif\u001b[39;00m sample_weight \u001b[39mis\u001b[39;00m \u001b[39mNone\u001b[39;00m \u001b[39melse\u001b[39;00m sample_weight, dtype\u001b[39m=\u001b[39mnp\u001b[39m.\u001b[39mfloat64\n\u001b[0;32m    205\u001b[0m )\n",
      "File \u001b[1;32mc:\\Users\\barath_suresh\\AppData\\Local\\Programs\\Python\\Python311\\Lib\\site-packages\\sklearn\\base.py:584\u001b[0m, in \u001b[0;36mBaseEstimator._validate_data\u001b[1;34m(self, X, y, reset, validate_separately, **check_params)\u001b[0m\n\u001b[0;32m    582\u001b[0m         y \u001b[39m=\u001b[39m check_array(y, input_name\u001b[39m=\u001b[39m\u001b[39m\"\u001b[39m\u001b[39my\u001b[39m\u001b[39m\"\u001b[39m, \u001b[39m*\u001b[39m\u001b[39m*\u001b[39mcheck_y_params)\n\u001b[0;32m    583\u001b[0m     \u001b[39melse\u001b[39;00m:\n\u001b[1;32m--> 584\u001b[0m         X, y \u001b[39m=\u001b[39m check_X_y(X, y, \u001b[39m*\u001b[39;49m\u001b[39m*\u001b[39;49mcheck_params)\n\u001b[0;32m    585\u001b[0m     out \u001b[39m=\u001b[39m X, y\n\u001b[0;32m    587\u001b[0m \u001b[39mif\u001b[39;00m \u001b[39mnot\u001b[39;00m no_val_X \u001b[39mand\u001b[39;00m check_params\u001b[39m.\u001b[39mget(\u001b[39m\"\u001b[39m\u001b[39mensure_2d\u001b[39m\u001b[39m\"\u001b[39m, \u001b[39mTrue\u001b[39;00m):\n",
      "File \u001b[1;32mc:\\Users\\barath_suresh\\AppData\\Local\\Programs\\Python\\Python311\\Lib\\site-packages\\sklearn\\utils\\validation.py:1106\u001b[0m, in \u001b[0;36mcheck_X_y\u001b[1;34m(X, y, accept_sparse, accept_large_sparse, dtype, order, copy, force_all_finite, ensure_2d, allow_nd, multi_output, ensure_min_samples, ensure_min_features, y_numeric, estimator)\u001b[0m\n\u001b[0;32m   1101\u001b[0m         estimator_name \u001b[39m=\u001b[39m _check_estimator_name(estimator)\n\u001b[0;32m   1102\u001b[0m     \u001b[39mraise\u001b[39;00m \u001b[39mValueError\u001b[39;00m(\n\u001b[0;32m   1103\u001b[0m         \u001b[39mf\u001b[39m\u001b[39m\"\u001b[39m\u001b[39m{\u001b[39;00mestimator_name\u001b[39m}\u001b[39;00m\u001b[39m requires y to be passed, but the target y is None\u001b[39m\u001b[39m\"\u001b[39m\n\u001b[0;32m   1104\u001b[0m     )\n\u001b[1;32m-> 1106\u001b[0m X \u001b[39m=\u001b[39m check_array(\n\u001b[0;32m   1107\u001b[0m     X,\n\u001b[0;32m   1108\u001b[0m     accept_sparse\u001b[39m=\u001b[39;49maccept_sparse,\n\u001b[0;32m   1109\u001b[0m     accept_large_sparse\u001b[39m=\u001b[39;49maccept_large_sparse,\n\u001b[0;32m   1110\u001b[0m     dtype\u001b[39m=\u001b[39;49mdtype,\n\u001b[0;32m   1111\u001b[0m     order\u001b[39m=\u001b[39;49morder,\n\u001b[0;32m   1112\u001b[0m     copy\u001b[39m=\u001b[39;49mcopy,\n\u001b[0;32m   1113\u001b[0m     force_all_finite\u001b[39m=\u001b[39;49mforce_all_finite,\n\u001b[0;32m   1114\u001b[0m     ensure_2d\u001b[39m=\u001b[39;49mensure_2d,\n\u001b[0;32m   1115\u001b[0m     allow_nd\u001b[39m=\u001b[39;49mallow_nd,\n\u001b[0;32m   1116\u001b[0m     ensure_min_samples\u001b[39m=\u001b[39;49mensure_min_samples,\n\u001b[0;32m   1117\u001b[0m     ensure_min_features\u001b[39m=\u001b[39;49mensure_min_features,\n\u001b[0;32m   1118\u001b[0m     estimator\u001b[39m=\u001b[39;49mestimator,\n\u001b[0;32m   1119\u001b[0m     input_name\u001b[39m=\u001b[39;49m\u001b[39m\"\u001b[39;49m\u001b[39mX\u001b[39;49m\u001b[39m\"\u001b[39;49m,\n\u001b[0;32m   1120\u001b[0m )\n\u001b[0;32m   1122\u001b[0m y \u001b[39m=\u001b[39m _check_y(y, multi_output\u001b[39m=\u001b[39mmulti_output, y_numeric\u001b[39m=\u001b[39my_numeric, estimator\u001b[39m=\u001b[39mestimator)\n\u001b[0;32m   1124\u001b[0m check_consistent_length(X, y)\n",
      "File \u001b[1;32mc:\\Users\\barath_suresh\\AppData\\Local\\Programs\\Python\\Python311\\Lib\\site-packages\\sklearn\\utils\\validation.py:915\u001b[0m, in \u001b[0;36mcheck_array\u001b[1;34m(array, accept_sparse, accept_large_sparse, dtype, order, copy, force_all_finite, ensure_2d, allow_nd, ensure_min_samples, ensure_min_features, estimator, input_name)\u001b[0m\n\u001b[0;32m    910\u001b[0m     \u001b[39mraise\u001b[39;00m \u001b[39mValueError\u001b[39;00m(\n\u001b[0;32m    911\u001b[0m         \u001b[39m\"\u001b[39m\u001b[39mdtype=\u001b[39m\u001b[39m'\u001b[39m\u001b[39mnumeric\u001b[39m\u001b[39m'\u001b[39m\u001b[39m is not compatible with arrays of bytes/strings.\u001b[39m\u001b[39m\"\u001b[39m\n\u001b[0;32m    912\u001b[0m         \u001b[39m\"\u001b[39m\u001b[39mConvert your data to numeric values explicitly instead.\u001b[39m\u001b[39m\"\u001b[39m\n\u001b[0;32m    913\u001b[0m     )\n\u001b[0;32m    914\u001b[0m \u001b[39mif\u001b[39;00m \u001b[39mnot\u001b[39;00m allow_nd \u001b[39mand\u001b[39;00m array\u001b[39m.\u001b[39mndim \u001b[39m>\u001b[39m\u001b[39m=\u001b[39m \u001b[39m3\u001b[39m:\n\u001b[1;32m--> 915\u001b[0m     \u001b[39mraise\u001b[39;00m \u001b[39mValueError\u001b[39;00m(\n\u001b[0;32m    916\u001b[0m         \u001b[39m\"\u001b[39m\u001b[39mFound array with dim \u001b[39m\u001b[39m%d\u001b[39;00m\u001b[39m. \u001b[39m\u001b[39m%s\u001b[39;00m\u001b[39m expected <= 2.\u001b[39m\u001b[39m\"\u001b[39m\n\u001b[0;32m    917\u001b[0m         \u001b[39m%\u001b[39m (array\u001b[39m.\u001b[39mndim, estimator_name)\n\u001b[0;32m    918\u001b[0m     )\n\u001b[0;32m    920\u001b[0m \u001b[39mif\u001b[39;00m force_all_finite:\n\u001b[0;32m    921\u001b[0m     _assert_all_finite(\n\u001b[0;32m    922\u001b[0m         array,\n\u001b[0;32m    923\u001b[0m         input_name\u001b[39m=\u001b[39minput_name,\n\u001b[0;32m    924\u001b[0m         estimator_name\u001b[39m=\u001b[39mestimator_name,\n\u001b[0;32m    925\u001b[0m         allow_nan\u001b[39m=\u001b[39mforce_all_finite \u001b[39m==\u001b[39m \u001b[39m\"\u001b[39m\u001b[39mallow-nan\u001b[39m\u001b[39m\"\u001b[39m,\n\u001b[0;32m    926\u001b[0m     )\n",
      "\u001b[1;31mValueError\u001b[0m: Found array with dim 3. SVC expected <= 2."
     ]
    }
   ],
   "source": [
    "#TRAINING RANDOM FOREST MODEL USING CNN\n",
    "\n",
    "svm_model = SVC(kernel = 'linear', random_state = 42)\n",
    "svm_model.fit(cnn_features, Y_train)"
   ]
  },
  {
   "cell_type": "code",
   "execution_count": null,
   "id": "cf174d4b",
   "metadata": {},
   "outputs": [],
   "source": [
    "#EXTRACT FEATURES\n",
    "\n",
    "cnn_features_test = model_14.predict(X_test_cnn)"
   ]
  },
  {
   "cell_type": "code",
   "execution_count": null,
   "id": "6d74b2df",
   "metadata": {},
   "outputs": [],
   "source": [
    "#PREDICT USING RANDOM FOREST MODEL\n",
    "\n",
    "svm_pred = svm_model.predict(cnn_features_test)"
   ]
  },
  {
   "cell_type": "code",
   "execution_count": null,
   "id": "9f1bddc0",
   "metadata": {},
   "outputs": [],
   "source": [
    "# Print classification report and confusion matrix\n",
    "print(classification_report(Y_test, svm_pred))\n",
    "print(confusion_matrix(Y_test, svm_pred))"
   ]
  },
  {
   "cell_type": "code",
   "execution_count": null,
   "id": "8b02c269",
   "metadata": {},
   "outputs": [],
   "source": [
    "#PRINT ACCURACY OF THE CNN-RANDOM FOREST HYBRID MODEL\n",
    "\n",
    "acc_sc = accuracy_score(Y_test, svm_pred)\n",
    "print(\"The accuracy of the CNN-Random Forest Hybrid Model is \",acc_sc*100,\"%\")"
   ]
  },
  {
   "cell_type": "code",
   "execution_count": null,
   "id": "8bc6a5b8",
   "metadata": {},
   "outputs": [],
   "source": [
    "train_acc = history_14.history['accuracy']\n",
    "val_acc = history_14.history['val_accuracy']\n",
    "print(\"Training accuracy: \", train_acc[-1])\n",
    "print(\"Validation accuracy: \", val_acc[-1])"
   ]
  }
 ],
 "metadata": {
  "kernelspec": {
   "display_name": "Python 3 (ipykernel)",
   "language": "python",
   "name": "python3"
  },
  "language_info": {
   "codemirror_mode": {
    "name": "ipython",
    "version": 3
   },
   "file_extension": ".py",
   "mimetype": "text/x-python",
   "name": "python",
   "nbconvert_exporter": "python",
   "pygments_lexer": "ipython3",
   "version": "3.11.1"
  }
 },
 "nbformat": 4,
 "nbformat_minor": 5
}
